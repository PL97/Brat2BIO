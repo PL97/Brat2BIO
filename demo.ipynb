{
 "cells": [
  {
   "cell_type": "code",
   "execution_count": 2,
   "id": "069dd8cd",
   "metadata": {},
   "outputs": [
    {
     "ename": "NameError",
     "evalue": "name 'strict_entity' is not defined",
     "output_type": "error",
     "traceback": [
      "\u001b[0;31m---------------------------------------------------------------------------\u001b[0m",
      "\u001b[0;31mNameError\u001b[0m                                 Traceback (most recent call last)",
      "Cell \u001b[0;32mIn[2], line 38\u001b[0m\n\u001b[1;32m     33\u001b[0m         entities\u001b[39m.\u001b[39mappend(line[\u001b[39m1\u001b[39m])\n\u001b[1;32m     35\u001b[0m pre_entity \u001b[39m=\u001b[39m line[\u001b[39m1\u001b[39m]\n\u001b[0;32m---> 38\u001b[0m unique_entities_strict\u001b[39m.\u001b[39madd(strict_entity)\n\u001b[1;32m     39\u001b[0m unique_entities_lenient\u001b[39m.\u001b[39madd(line[\u001b[39m1\u001b[39m])\n\u001b[1;32m     40\u001b[0m entities\u001b[39m.\u001b[39mappend(line[\u001b[39m1\u001b[39m])\n",
      "\u001b[0;31mNameError\u001b[0m: name 'strict_entity' is not defined"
     ]
    }
   ],
   "source": [
    "import csv\n",
    "unique_entities_strict = set()\n",
    "unique_entities_lenient = set()\n",
    "entities = []\n",
    "\n",
    "text = []\n",
    "labels = []\n",
    "\n",
    "\n",
    "with open(\"./output/ner-crf-training-data.tsv\", newline = '') as lines:  \n",
    "    line_reader = csv.reader(lines, delimiter='\\t')\n",
    "    sentence = []\n",
    "    entities = []\n",
    "    pre_entity = \"NEVER_EXISTS_ENTITY\"\n",
    "    for idx, line in enumerate(line_reader):\n",
    "        ## . signal the begining of a new line\n",
    "        ## skip empty line\n",
    "        if line == []:\n",
    "            continue\n",
    "        if line[0] == '.':\n",
    "            text.append(\" \".join(sentence + [line[0]]))\n",
    "            labels.append(\" \".join(entities + [line[1]]))\n",
    "            sentence, entities = [] , []\n",
    "            strict_entity = line[1]\n",
    "        else:\n",
    "            sentence.append(line[0])\n",
    "            if line[1] != \"O\" and pre_entity == line[1]:\n",
    "                entities.append(\"I-\"+line[1])\n",
    "                strict_entity = \"I-\"+line[1]\n",
    "            elif line[1] != \"O\" and pre_entity != line[1]:\n",
    "                entities.append(\"B-\"+line[1])\n",
    "                strict_entity = \"B-\"+line[1]\n",
    "            else:\n",
    "                entities.append(line[1])\n",
    "                strict_entity = line[1]\n",
    "        \n",
    "        pre_entity = line[1]\n",
    "        \n",
    "        \n",
    "        unique_entities_strict.add(strict_entity)\n",
    "        unique_entities_lenient.add(line[1])\n",
    "        entities.append(line[1])\n"
   ]
  },
  {
   "cell_type": "code",
   "execution_count": null,
   "id": "12caabc9",
   "metadata": {},
   "outputs": [
    {
     "data": {
      "text/html": [
       "<div>\n",
       "<style scoped>\n",
       "    .dataframe tbody tr th:only-of-type {\n",
       "        vertical-align: middle;\n",
       "    }\n",
       "\n",
       "    .dataframe tbody tr th {\n",
       "        vertical-align: top;\n",
       "    }\n",
       "\n",
       "    .dataframe thead th {\n",
       "        text-align: right;\n",
       "    }\n",
       "</style>\n",
       "<table border=\"1\" class=\"dataframe\">\n",
       "  <thead>\n",
       "    <tr style=\"text-align: right;\">\n",
       "      <th></th>\n",
       "      <th>text</th>\n",
       "      <th>labels</th>\n",
       "    </tr>\n",
       "  </thead>\n",
       "  <tbody>\n",
       "    <tr>\n",
       "      <th>0</th>\n",
       "      <td>A 48 year - old female presented with vaginal ...</td>\n",
       "      <td>O B-Age I-Age I-Age I-Age B-Sex B-Clinical_eve...</td>\n",
       "    </tr>\n",
       "    <tr>\n",
       "      <th>1</th>\n",
       "      <td>Upon diagnosis of invasive non-keratinizing SC...</td>\n",
       "      <td>O O O B-Detailed_description I-Detailed_descri...</td>\n",
       "    </tr>\n",
       "    <tr>\n",
       "      <th>2</th>\n",
       "      <td>Pathological examination revealed that the tum...</td>\n",
       "      <td>B-Diagnostic_procedure I-Diagnostic_procedure ...</td>\n",
       "    </tr>\n",
       "    <tr>\n",
       "      <th>3</th>\n",
       "      <td>5 months after this surgery , the woman underw...</td>\n",
       "      <td>B-Date I-Date I-Date I-Date I-Date O O O O B-D...</td>\n",
       "    </tr>\n",
       "    <tr>\n",
       "      <th>4</th>\n",
       "      <td>Two years later , the patient presented with a...</td>\n",
       "      <td>B-Date I-Date I-Date O O O O O O B-Duration I-...</td>\n",
       "    </tr>\n",
       "  </tbody>\n",
       "</table>\n",
       "</div>"
      ],
      "text/plain": [
       "                                                text  \\\n",
       "0  A 48 year - old female presented with vaginal ...   \n",
       "1  Upon diagnosis of invasive non-keratinizing SC...   \n",
       "2  Pathological examination revealed that the tum...   \n",
       "3  5 months after this surgery , the woman underw...   \n",
       "4  Two years later , the patient presented with a...   \n",
       "\n",
       "                                              labels  \n",
       "0  O B-Age I-Age I-Age I-Age B-Sex B-Clinical_eve...  \n",
       "1  O O O B-Detailed_description I-Detailed_descri...  \n",
       "2  B-Diagnostic_procedure I-Diagnostic_procedure ...  \n",
       "3  B-Date I-Date I-Date I-Date I-Date O O O O B-D...  \n",
       "4  B-Date I-Date I-Date O O O O O O B-Duration I-...  "
      ]
     },
     "execution_count": 6,
     "metadata": {},
     "output_type": "execute_result"
    }
   ],
   "source": [
    "import pandas as pd\n",
    "new_df = pd.DataFrame({\"text\": text, \"labels\": labels})\n",
    "new_df.head()\n",
    "new_df.to_csv(\"./output/ner.csv\")"
   ]
  },
  {
   "cell_type": "code",
   "execution_count": null,
   "id": "61b1ff82",
   "metadata": {},
   "outputs": [
    {
     "name": "stdout",
     "output_type": "stream",
     "text": [
      "42\n"
     ]
    }
   ],
   "source": [
    "print(f\"Unique entities count:\\nStrict: {len(unique_entities_strict)}\\nLenient: {len(unique_entities_lenient)}\")\n"
   ]
  },
  {
   "cell_type": "code",
   "execution_count": null,
   "id": "031fba43",
   "metadata": {},
   "outputs": [
    {
     "name": "stdout",
     "output_type": "stream",
     "text": [
      "{'Area', 'Sex', 'Frequency', 'Dosage', 'Biological_attribute', 'Mass', 'Nonbiological_location', 'Severity', 'Other_event', 'Disease_disorder', 'Therapeutic_procedure', 'Texture', 'Family_history', 'Diagnostic_procedure', 'Qualitative_concept', 'Duration', 'Medication', 'Subject', 'Height', 'Outcome', 'Volume', 'Shape', 'Weight', 'Distance', 'Administration', 'Personal_background', 'Lab_value', 'Activity', 'Date', 'Sign_symptom', 'Quantitative_concept', 'Other_entity', 'Age', 'Clinical_event', 'O', 'History', 'Coreference', 'Color', 'Biological_structure', 'Occupation', 'Time', 'Detailed_description'}\n"
     ]
    }
   ],
   "source": [
    "print(unique_entities_strict)"
   ]
  },
  {
   "cell_type": "code",
   "execution_count": null,
   "id": "f102aa24",
   "metadata": {},
   "outputs": [
    {
     "data": {
      "text/plain": [
       "Counter({'O': 54914,\n",
       "         'Age': 972,\n",
       "         'Sex': 190,\n",
       "         'Clinical_event': 826,\n",
       "         'Biological_structure': 5537,\n",
       "         'Sign_symptom': 4868,\n",
       "         'Lab_value': 6555,\n",
       "         'Diagnostic_procedure': 8730,\n",
       "         'Detailed_description': 5756,\n",
       "         'Disease_disorder': 2162,\n",
       "         'Therapeutic_procedure': 1642,\n",
       "         'Coreference': 437,\n",
       "         'Date': 2135,\n",
       "         'Duration': 779,\n",
       "         'Texture': 81,\n",
       "         'Medication': 1534,\n",
       "         'Outcome': 51,\n",
       "         'History': 1587,\n",
       "         'Severity': 437,\n",
       "         'Distance': 363,\n",
       "         'Color': 96,\n",
       "         'Frequency': 181,\n",
       "         'Administration': 202,\n",
       "         'Dosage': 1323,\n",
       "         'Nonbiological_location': 717,\n",
       "         'Time': 153,\n",
       "         'Area': 183,\n",
       "         'Personal_background': 70,\n",
       "         'Activity': 150,\n",
       "         'Quantitative_concept': 92,\n",
       "         'Family_history': 474,\n",
       "         'Qualitative_concept': 59,\n",
       "         'Volume': 141,\n",
       "         'Subject': 67,\n",
       "         'Shape': 104,\n",
       "         'Weight': 8,\n",
       "         'Other_entity': 335,\n",
       "         'Other_event': 93,\n",
       "         'Occupation': 41,\n",
       "         'Biological_attribute': 13,\n",
       "         'Height': 8,\n",
       "         'Mass': 4})"
      ]
     },
     "execution_count": 9,
     "metadata": {},
     "output_type": "execute_result"
    }
   ],
   "source": [
    "from collections import Counter\n",
    "\n",
    "Counter(entities)"
   ]
  }
 ],
 "metadata": {
  "kernelspec": {
   "display_name": "Python 3.6.9 64-bit",
   "language": "python",
   "name": "python3"
  },
  "language_info": {
   "codemirror_mode": {
    "name": "ipython",
    "version": 3
   },
   "file_extension": ".py",
   "mimetype": "text/x-python",
   "name": "python",
   "nbconvert_exporter": "python",
   "pygments_lexer": "ipython3",
   "version": "3.8.10"
  },
  "vscode": {
   "interpreter": {
    "hash": "31f2aee4e71d21fbe5cf8b01ff0e069b9275f58929596ceb00d14d90e3e16cd6"
   }
  }
 },
 "nbformat": 4,
 "nbformat_minor": 5
}

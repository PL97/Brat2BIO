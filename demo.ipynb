{
 "cells": [
  {
   "cell_type": "code",
   "execution_count": 17,
   "id": "069dd8cd",
   "metadata": {},
   "outputs": [],
   "source": [
    "import csv\n",
    "import os\n",
    "unique_entities_strict = set()\n",
    "unique_entities_lenient = set()\n",
    "entities = []\n",
    "\n",
    "text = []\n",
    "labels = []\n",
    "labels_lenient = []\n",
    "working_folder = \"./custom_output/\"\n",
    "\n",
    "with open(os.path.join(working_folder, \"ner-crf-training-data.tsv\"), newline = '') as lines:  \n",
    "#     line_reader = csv.reader(lines, delimiter='\\t')\n",
    "    line_reader = csv.reader(lines, delimiter='\\t', quoting=csv.QUOTE_NONE)\n",
    "    sentence = []\n",
    "    entities = []\n",
    "    pre_entity = \"NEVER_EXISTS_ENTITY\"\n",
    "    for idx, line in enumerate(line_reader):\n",
    "        ## . signal the begining of a new line\n",
    "        ## skip empty line\n",
    "        if line == []:\n",
    "            continue\n",
    "        if line[0] == '.' and line[1] == \"O\":\n",
    "            text.append(\" \".join(sentence + [line[0]]))\n",
    "            labels.append(\" \".join(entities + [line[1]]))\n",
    "            sentence, entities = [] , []\n",
    "            strict_entity = line[1]\n",
    "        else:\n",
    "            sentence.append(line[0])\n",
    "            if line[1] != \"O\" and pre_entity == line[1]:\n",
    "                entities.append(\"I-\"+line[1])\n",
    "                strict_entity = \"I-\"+line[1]\n",
    "            elif line[1] != \"O\" and pre_entity != line[1]:\n",
    "                entities.append(\"B-\"+line[1])\n",
    "                strict_entity = \"B-\"+line[1]\n",
    "            else:\n",
    "                entities.append(line[1])\n",
    "                strict_entity = line[1]\n",
    "        \n",
    "        \n",
    "        labels_lenient.append(line[1])\n",
    "        \n",
    "        unique_entities_strict.add(strict_entity)\n",
    "        unique_entities_lenient.add(line[1])\n",
    "        entities.append(line[1])\n",
    "        pre_entity = line[1]\n"
   ]
  },
  {
   "cell_type": "code",
   "execution_count": null,
   "id": "12caabc9",
   "metadata": {},
   "outputs": [],
   "source": [
    "import pandas as pd\n",
    "new_df = pd.DataFrame({\"text\": text, \"labels\": labels})\n",
    "new_df.head()\n",
    "new_df.to_csv(os.path.join(working_folder, \"ner.csv\"))"
   ]
  },
  {
   "cell_type": "code",
   "execution_count": null,
   "id": "61b1ff82",
   "metadata": {},
   "outputs": [],
   "source": [
    "print(f\"Unique entities count:\\nStrict: {len(unique_entities_strict)}\\nLenient: {len(unique_entities_lenient)}\")\n"
   ]
  },
  {
   "cell_type": "code",
   "execution_count": null,
   "id": "031fba43",
   "metadata": {},
   "outputs": [],
   "source": [
    "print(unique_entities_strict)"
   ]
  },
  {
   "cell_type": "code",
   "execution_count": null,
   "id": "a0c42bad",
   "metadata": {
    "scrolled": true
   },
   "outputs": [],
   "source": [
    "unique_entities_lenient"
   ]
  },
  {
   "cell_type": "markdown",
   "id": "bb8cbb36",
   "metadata": {},
   "source": [
    "Visualize data"
   ]
  },
  {
   "cell_type": "code",
   "execution_count": null,
   "id": "0f725954",
   "metadata": {},
   "outputs": [],
   "source": [
    "import matplotlib.pyplot as plt\n",
    "import seaborn as sns\n",
    "\n",
    "sentence_length = [len(str.split()) for str in text]\n",
    "                   \n",
    "\n",
    "\n",
    "\n",
    "sns.set(style='darkgrid')\n",
    "\n",
    "# Increase the plot size and font size.\n",
    "sns.set(font_scale=1.2)\n",
    "plt.figure(figsize=(8,6))\n",
    "\n",
    "# Plot the distribution of comment lengths.\n",
    "sns.distplot(sentence_length, kde=False, rug=False,color='plum', bins=50)\n",
    "\n",
    "plt.title('Sentence Lengths')\n",
    "plt.xlabel('Sentence Length')\n",
    "plt.ylabel('# of Sentences');"
   ]
  },
  {
   "cell_type": "code",
   "execution_count": null,
   "id": "2a36fc81",
   "metadata": {},
   "outputs": [],
   "source": [
    "from collections import Counter\n",
    "import itertools\n",
    "all_labels = list(itertools.chain(*[l.split() for l in labels]))\n",
    "label_count = dict(Counter(all_labels))\n",
    "tmp_df = pd.DataFrame({\"entity\": label_count.keys(), \"count\": label_count.values()})\n",
    "print(tmp_df.head())\n",
    "\n",
    "sns.set(font_scale=0.8)\n",
    "plt.figure(figsize=(20,5))\n",
    "ax = sns.countplot(all_labels)\n",
    "ax.set_xticklabels(ax.get_xticklabels(), rotation=40, ha=\"right\");\n"
   ]
  },
  {
   "cell_type": "code",
   "execution_count": null,
   "id": "8e7b8d1f",
   "metadata": {},
   "outputs": [],
   "source": [
    "from collections import Counter\n",
    "import itertools\n",
    "\n",
    "label_count = dict(Counter(labels_lenient))\n",
    "tmp_df = pd.DataFrame({\"entity\": label_count.keys(), \"count\": label_count.values()})\n",
    "print(tmp_df)\n",
    "\n",
    "sns.set(font_scale=0.8)\n",
    "plt.figure(figsize=(20,5))\n",
    "ax = sns.countplot(labels_lenient)\n",
    "ax.set_xticklabels(ax.get_xticklabels(), rotation=40, ha=\"right\");"
   ]
  },
  {
   "cell_type": "code",
   "execution_count": null,
   "id": "12654074",
   "metadata": {},
   "outputs": [],
   "source": []
  }
 ],
 "metadata": {
  "kernelspec": {
   "display_name": "Python 3",
   "language": "python",
   "name": "python3"
  },
  "language_info": {
   "codemirror_mode": {
    "name": "ipython",
    "version": 3
   },
   "file_extension": ".py",
   "mimetype": "text/x-python",
   "name": "python",
   "nbconvert_exporter": "python",
   "pygments_lexer": "ipython3",
   "version": "3.8.8"
  },
  "vscode": {
   "interpreter": {
    "hash": "1ee16e2aeef214446054932dbbda2bccb9d5f15afde930c99b0c9d5bbafa9ca0"
   }
  }
 },
 "nbformat": 4,
 "nbformat_minor": 5
}
